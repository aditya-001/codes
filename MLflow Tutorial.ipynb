{
 "cells": [
  {
   "cell_type": "code",
   "execution_count": 1,
   "id": "c9b9e188",
   "metadata": {},
   "outputs": [],
   "source": [
    "import mlflow\n",
    "from sklearn.metrics import silhouette_score\n",
    "from sklearn.cluster import KMeans"
   ]
  },
  {
   "cell_type": "code",
   "execution_count": 2,
   "id": "87966946",
   "metadata": {},
   "outputs": [],
   "source": [
    "training_data=[(2,10),(2,6),(11,11),(6,9),(6,4),(1,2),(5,10),(4,9),(10,12),(7,5),(9,11),(4,6),(3,10),(3,8),(6,11)]\n"
   ]
  },
  {
   "cell_type": "code",
   "execution_count": null,
   "id": "12dac94c",
   "metadata": {},
   "outputs": [],
   "source": [
    "#Tracking"
   ]
  },
  {
   "cell_type": "code",
   "execution_count": 3,
   "id": "43473156",
   "metadata": {},
   "outputs": [],
   "source": [
    "remote_server_tracking_uri = \"http://localhost:5000\"\n",
    "mlflow.set_tracking_uri(remote_server_tracking_uri)\n",
    "experiment_name = 'ClusteringWithMlflowTut'\n",
    "try:\n",
    "    exp_id = mlflow.create_experiment(name=experiment_name)\n",
    "except Exception as e:\n",
    "    exp_id = mlflow.get_experiment_by_name(experiment_name).experiment_id"
   ]
  },
  {
   "cell_type": "code",
   "execution_count": 4,
   "id": "29f19f91",
   "metadata": {},
   "outputs": [
    {
     "name": "stderr",
     "output_type": "stream",
     "text": [
      "2022/09/01 17:07:44 WARNING mlflow.utils.requirements_utils: Found lz4 version (3.1.3+dfsg) contains a local version label (+dfsg). MLflow logged a pip requirement for this package as 'lz4==3.1.3' without the local version label to make it installable from PyPI. To specify pip requirements containing local version labels, please use `conda_env` or `pip_requirements`.\n",
      "2022/09/01 17:07:45 WARNING mlflow.utils.requirements_utils: Found lz4 version (3.1.3+dfsg) contains a local version label (+dfsg). MLflow logged a pip requirement for this package as 'lz4==3.1.3' without the local version label to make it installable from PyPI. To specify pip requirements containing local version labels, please use `conda_env` or `pip_requirements`.\n",
      "2022/09/01 17:07:47 WARNING mlflow.utils.requirements_utils: Found lz4 version (3.1.3+dfsg) contains a local version label (+dfsg). MLflow logged a pip requirement for this package as 'lz4==3.1.3' without the local version label to make it installable from PyPI. To specify pip requirements containing local version labels, please use `conda_env` or `pip_requirements`.\n",
      "2022/09/01 17:07:49 WARNING mlflow.utils.requirements_utils: Found lz4 version (3.1.3+dfsg) contains a local version label (+dfsg). MLflow logged a pip requirement for this package as 'lz4==3.1.3' without the local version label to make it installable from PyPI. To specify pip requirements containing local version labels, please use `conda_env` or `pip_requirements`.\n"
     ]
    }
   ],
   "source": [
    "range_of_k = range(2,6) \n",
    "for k in range_of_k :\n",
    "    with mlflow.start_run(experiment_id=exp_id):\n",
    "        untrained_model = KMeans(n_clusters=k)\n",
    "        trained_model=untrained_model.fit(training_data)\n",
    "        cluster_labels = trained_model.labels_\n",
    "        score=silhouette_score(training_data, cluster_labels)\n",
    "        mlflow.log_param('value_of_k', k)\n",
    "        mlflow.log_metric('silhoutte_score', score)\n",
    "        mlflow.sklearn.log_model(trained_model, \"Clustering_Model\")\n",
    "        mlflow.end_run()"
   ]
  },
  {
   "cell_type": "code",
   "execution_count": null,
   "id": "80dff727",
   "metadata": {},
   "outputs": [],
   "source": [
    "#Models"
   ]
  },
  {
   "cell_type": "code",
   "execution_count": 44,
   "id": "48a0789c",
   "metadata": {},
   "outputs": [
    {
     "name": "stderr",
     "output_type": "stream",
     "text": [
      "2022/09/01 18:07:32 WARNING mlflow.pyfunc: Detected one or more mismatches between the model's dependencies and the current Python environment:\n",
      " - typing-extensions (current: 4.3.0, required: typing-extensions==3.10.0.2)\n",
      "To fix the mismatches, call `mlflow.pyfunc.get_model_dependencies(model_uri)` to fetch the model's environment and install dependencies using the resulting environment file.\n"
     ]
    },
    {
     "data": {
      "text/plain": [
       "array([0, 4, 4], dtype=int32)"
      ]
     },
     "execution_count": 44,
     "metadata": {},
     "output_type": "execute_result"
    }
   ],
   "source": [
    "logged_model = 'runs:/761858718ed04c64866e783665c08c38/Clustering_Model'\n",
    "\n",
    "# Load model as a PyFuncModel.\n",
    "loaded_model = mlflow.pyfunc.load_model(logged_model)\n",
    "\n",
    "# Predict on a Pandas DataFrame.\n",
    "import pandas as pd\n",
    "loaded_model.predict([[1, 2], [3, 4], [5, 6]])"
   ]
  },
  {
   "cell_type": "code",
   "execution_count": 38,
   "id": "49441fe0",
   "metadata": {},
   "outputs": [],
   "source": [
    "#Register a Model\n",
    "model_name=\"MyModel\"\n",
    "model_version=2"
   ]
  },
  {
   "cell_type": "code",
   "execution_count": 39,
   "id": "b914a404",
   "metadata": {},
   "outputs": [
    {
     "data": {
      "text/plain": [
       "<ModelVersion: creation_timestamp=1662032971423, current_stage='None', description='THis is a new model with enhanced features', last_updated_timestamp=1662035399399, name='MyModel', run_id='761858718ed04c64866e783665c08c38', run_link='', source='/home/aditya1117/codes/mlruns/1/761858718ed04c64866e783665c08c38/artifacts/Clustering_Model', status='READY', status_message='', tags={}, user_id='', version='2'>"
      ]
     },
     "execution_count": 39,
     "metadata": {},
     "output_type": "execute_result"
    }
   ],
   "source": [
    "from mlflow.tracking.client import MlflowClient\n",
    "client=MlflowClient()\n",
    "client.update_model_version(name=model_name,version=model_version, description=\"THis is a new model with enhanced features\" )"
   ]
  },
  {
   "cell_type": "code",
   "execution_count": 40,
   "id": "fcd4acf1",
   "metadata": {},
   "outputs": [
    {
     "data": {
      "text/plain": [
       "<ModelVersion: creation_timestamp=1662032971423, current_stage='Staging', description='THis is a new model with enhanced features', last_updated_timestamp=1662035486319, name='MyModel', run_id='761858718ed04c64866e783665c08c38', run_link='', source='/home/aditya1117/codes/mlruns/1/761858718ed04c64866e783665c08c38/artifacts/Clustering_Model', status='READY', status_message='', tags={}, user_id='', version='2'>"
      ]
     },
     "execution_count": 40,
     "metadata": {},
     "output_type": "execute_result"
    }
   ],
   "source": [
    "#change stage\n",
    "client.transition_model_version_stage(name=model_name,version=model_version,stage=\"staging\")"
   ]
  },
  {
   "cell_type": "code",
   "execution_count": 41,
   "id": "8a3fca0e",
   "metadata": {},
   "outputs": [
    {
     "data": {
      "text/plain": [
       "<ModelVersion: creation_timestamp=1662032971423, current_stage='Production', description='THis is a new model with enhanced features', last_updated_timestamp=1662035553838, name='MyModel', run_id='761858718ed04c64866e783665c08c38', run_link='', source='/home/aditya1117/codes/mlruns/1/761858718ed04c64866e783665c08c38/artifacts/Clustering_Model', status='READY', status_message='', tags={}, user_id='', version='2'>"
      ]
     },
     "execution_count": 41,
     "metadata": {},
     "output_type": "execute_result"
    }
   ],
   "source": [
    "#to production\n",
    "client.transition_model_version_stage(name=model_name,version=model_version,stage=\"production\")"
   ]
  },
  {
   "cell_type": "code",
   "execution_count": null,
   "id": "931048cf",
   "metadata": {},
   "outputs": [],
   "source": [
    "#Load Registered Model"
   ]
  },
  {
   "cell_type": "code",
   "execution_count": 23,
   "id": "44cd8e75",
   "metadata": {},
   "outputs": [],
   "source": [
    "\n",
    "model_uri=\"models:/MyModel/None\""
   ]
  },
  {
   "cell_type": "code",
   "execution_count": 24,
   "id": "5bcf5d34",
   "metadata": {},
   "outputs": [],
   "source": [
    "import mlflow.pyfunc as pf\n",
    "loaded_model= pf.load_model(model_uri)"
   ]
  },
  {
   "cell_type": "code",
   "execution_count": 26,
   "id": "06459e54",
   "metadata": {},
   "outputs": [
    {
     "data": {
      "text/plain": [
       "array([3, 4, 0], dtype=int32)"
      ]
     },
     "execution_count": 26,
     "metadata": {},
     "output_type": "execute_result"
    }
   ],
   "source": [
    "loaded_model.predict([[1, 11], [3, 4], [5, 6]])"
   ]
  },
  {
   "cell_type": "code",
   "execution_count": 42,
   "id": "ca37827e",
   "metadata": {},
   "outputs": [],
   "source": [
    "#delete model\n",
    "client.delete_model_version(name=model_name,version=model_version,)"
   ]
  },
  {
   "cell_type": "code",
   "execution_count": null,
   "id": "572eadb0",
   "metadata": {},
   "outputs": [],
   "source": []
  }
 ],
 "metadata": {
  "kernelspec": {
   "display_name": "Python 3",
   "language": "python",
   "name": "python3"
  },
  "language_info": {
   "codemirror_mode": {
    "name": "ipython",
    "version": 3
   },
   "file_extension": ".py",
   "mimetype": "text/x-python",
   "name": "python",
   "nbconvert_exporter": "python",
   "pygments_lexer": "ipython3",
   "version": "3.10.4"
  }
 },
 "nbformat": 4,
 "nbformat_minor": 5
}
